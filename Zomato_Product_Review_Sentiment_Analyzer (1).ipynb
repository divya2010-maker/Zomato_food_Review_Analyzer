{
 "cells": [
  {
   "cell_type": "code",
   "execution_count": 1,
   "id": "225f4027-3bf1-465d-b5fc-deef4f4554a5",
   "metadata": {},
   "outputs": [],
   "source": [
    "# Import libraries \n",
    "import pandas as pd \n",
    "import numpy as np \n",
    "import nltk \n",
    "from nltk.sentiment.vader import SentimentIntensityAnalyzer"
   ]
  },
  {
   "cell_type": "code",
   "execution_count": 2,
   "id": "f1850bfa-b1a9-4366-8495-dd849233683d",
   "metadata": {},
   "outputs": [
    {
     "name": "stderr",
     "output_type": "stream",
     "text": [
      "[nltk_data] Downloading package vader_lexicon to C:\\Users\\Aaditya\n",
      "[nltk_data]     Narayan\\AppData\\Roaming\\nltk_data...\n",
      "[nltk_data]   Package vader_lexicon is already up-to-date!\n"
     ]
    },
    {
     "data": {
      "text/plain": [
       "True"
      ]
     },
     "execution_count": 2,
     "metadata": {},
     "output_type": "execute_result"
    }
   ],
   "source": [
    "# Download the vader lexicon \n",
    "nltk.download('vader_lexicon')"
   ]
  },
  {
   "cell_type": "code",
   "execution_count": 3,
   "id": "882e764b-cf18-4465-a288-a996be012596",
   "metadata": {},
   "outputs": [
    {
     "data": {
      "text/html": [
       "<div>\n",
       "<style scoped>\n",
       "    .dataframe tbody tr th:only-of-type {\n",
       "        vertical-align: middle;\n",
       "    }\n",
       "\n",
       "    .dataframe tbody tr th {\n",
       "        vertical-align: top;\n",
       "    }\n",
       "\n",
       "    .dataframe thead th {\n",
       "        text-align: right;\n",
       "    }\n",
       "</style>\n",
       "<table border=\"1\" class=\"dataframe\">\n",
       "  <thead>\n",
       "    <tr style=\"text-align: right;\">\n",
       "      <th></th>\n",
       "      <th>Unnamed: 0</th>\n",
       "      <th>rating</th>\n",
       "      <th>review</th>\n",
       "    </tr>\n",
       "  </thead>\n",
       "  <tbody>\n",
       "    <tr>\n",
       "      <th>0</th>\n",
       "      <td>0</td>\n",
       "      <td>5</td>\n",
       "      <td>nice</td>\n",
       "    </tr>\n",
       "    <tr>\n",
       "      <th>1</th>\n",
       "      <td>1</td>\n",
       "      <td>5</td>\n",
       "      <td>best biryani , so supportive staff of outlet ,...</td>\n",
       "    </tr>\n",
       "    <tr>\n",
       "      <th>2</th>\n",
       "      <td>2</td>\n",
       "      <td>4</td>\n",
       "      <td>delivery boy was very decent and supportive.👌👍</td>\n",
       "    </tr>\n",
       "    <tr>\n",
       "      <th>3</th>\n",
       "      <td>3</td>\n",
       "      <td>1</td>\n",
       "      <td>worst biryani i have tasted in my life, half o...</td>\n",
       "    </tr>\n",
       "    <tr>\n",
       "      <th>4</th>\n",
       "      <td>4</td>\n",
       "      <td>5</td>\n",
       "      <td>all food is good and tasty . will order again ...</td>\n",
       "    </tr>\n",
       "  </tbody>\n",
       "</table>\n",
       "</div>"
      ],
      "text/plain": [
       "   Unnamed: 0  rating                                             review\n",
       "0           0       5                                               nice\n",
       "1           1       5  best biryani , so supportive staff of outlet ,...\n",
       "2           2       4     delivery boy was very decent and supportive.👌👍\n",
       "3           3       1  worst biryani i have tasted in my life, half o...\n",
       "4           4       5  all food is good and tasty . will order again ..."
      ]
     },
     "execution_count": 3,
     "metadata": {},
     "output_type": "execute_result"
    }
   ],
   "source": [
    "# Loading the dataset \n",
    "data=pd.read_csv(\"C:/Users/Aaditya Narayan/Desktop/Folder1/Datasets_Machinelearning/zomato_reviews.csv\",encoding='utf-8')\n",
    "data.head()"
   ]
  },
  {
   "cell_type": "code",
   "execution_count": 4,
   "id": "e4395e3e-54b0-42ff-8d89-36f8df90ff06",
   "metadata": {},
   "outputs": [
    {
     "data": {
      "text/plain": [
       "Unnamed: 0    0\n",
       "rating        0\n",
       "review        1\n",
       "dtype: int64"
      ]
     },
     "execution_count": 4,
     "metadata": {},
     "output_type": "execute_result"
    }
   ],
   "source": [
    "# checking for null values \n",
    "data.isnull().sum()"
   ]
  },
  {
   "cell_type": "code",
   "execution_count": 5,
   "id": "2356cb7f-dceb-4ef0-af32-c53767ddfe41",
   "metadata": {},
   "outputs": [],
   "source": [
    "# Since their is only one null value,so dropping the null row \n",
    "data.dropna(subset=['review'],inplace=True)"
   ]
  },
  {
   "cell_type": "code",
   "execution_count": 6,
   "id": "83d7568d-5312-407a-8bdd-e3b1cfc02092",
   "metadata": {},
   "outputs": [],
   "source": [
    "# Create and instance of the SentimentIntensityAnalyzer class \n",
    "analyzer=SentimentIntensityAnalyzer()"
   ]
  },
  {
   "cell_type": "code",
   "execution_count": 7,
   "id": "815d92ac-d12c-4e7b-8bc5-3d976ac4ade3",
   "metadata": {},
   "outputs": [
    {
     "data": {
      "text/plain": [
       "0    {'neg': 0.0, 'neu': 0.0, 'pos': 1.0, 'compound...\n",
       "1    {'neg': 0.0, 'neu': 0.691, 'pos': 0.309, 'comp...\n",
       "2    {'neg': 0.0, 'neu': 1.0, 'pos': 0.0, 'compound...\n",
       "3    {'neg': 0.24, 'neu': 0.76, 'pos': 0.0, 'compou...\n",
       "4    {'neg': 0.0, 'neu': 0.847, 'pos': 0.153, 'comp...\n",
       "Name: review, dtype: object"
      ]
     },
     "execution_count": 7,
     "metadata": {},
     "output_type": "execute_result"
    }
   ],
   "source": [
    "# Analyze the sentiment of each review and add a column for the sentiment scores \n",
    "scores=data['review'].apply(lambda x: analyzer.polarity_scores(x))\n",
    "scores.head()"
   ]
  },
  {
   "cell_type": "code",
   "execution_count": 8,
   "id": "772e2faa-d230-4b98-9bc1-b470cd7ad7f7",
   "metadata": {},
   "outputs": [],
   "source": [
    "# Concatenate the data and the polarity scores \n",
    "data=pd.concat([data,scores.apply(pd.Series)],axis=1)"
   ]
  },
  {
   "cell_type": "code",
   "execution_count": 9,
   "id": "c58bb8b1-6a0a-4302-8832-65329e5dc3c1",
   "metadata": {},
   "outputs": [
    {
     "data": {
      "text/html": [
       "<div>\n",
       "<style scoped>\n",
       "    .dataframe tbody tr th:only-of-type {\n",
       "        vertical-align: middle;\n",
       "    }\n",
       "\n",
       "    .dataframe tbody tr th {\n",
       "        vertical-align: top;\n",
       "    }\n",
       "\n",
       "    .dataframe thead th {\n",
       "        text-align: right;\n",
       "    }\n",
       "</style>\n",
       "<table border=\"1\" class=\"dataframe\">\n",
       "  <thead>\n",
       "    <tr style=\"text-align: right;\">\n",
       "      <th></th>\n",
       "      <th>Unnamed: 0</th>\n",
       "      <th>rating</th>\n",
       "      <th>review</th>\n",
       "      <th>neg</th>\n",
       "      <th>neu</th>\n",
       "      <th>pos</th>\n",
       "      <th>compound</th>\n",
       "    </tr>\n",
       "  </thead>\n",
       "  <tbody>\n",
       "    <tr>\n",
       "      <th>0</th>\n",
       "      <td>0</td>\n",
       "      <td>5</td>\n",
       "      <td>nice</td>\n",
       "      <td>0.000</td>\n",
       "      <td>0.000</td>\n",
       "      <td>1.000</td>\n",
       "      <td>0.4215</td>\n",
       "    </tr>\n",
       "    <tr>\n",
       "      <th>1</th>\n",
       "      <td>1</td>\n",
       "      <td>5</td>\n",
       "      <td>best biryani , so supportive staff of outlet ,...</td>\n",
       "      <td>0.000</td>\n",
       "      <td>0.691</td>\n",
       "      <td>0.309</td>\n",
       "      <td>0.7713</td>\n",
       "    </tr>\n",
       "    <tr>\n",
       "      <th>2</th>\n",
       "      <td>2</td>\n",
       "      <td>4</td>\n",
       "      <td>delivery boy was very decent and supportive.👌👍</td>\n",
       "      <td>0.000</td>\n",
       "      <td>1.000</td>\n",
       "      <td>0.000</td>\n",
       "      <td>0.0000</td>\n",
       "    </tr>\n",
       "    <tr>\n",
       "      <th>3</th>\n",
       "      <td>3</td>\n",
       "      <td>1</td>\n",
       "      <td>worst biryani i have tasted in my life, half o...</td>\n",
       "      <td>0.240</td>\n",
       "      <td>0.760</td>\n",
       "      <td>0.000</td>\n",
       "      <td>-0.6249</td>\n",
       "    </tr>\n",
       "    <tr>\n",
       "      <th>4</th>\n",
       "      <td>4</td>\n",
       "      <td>5</td>\n",
       "      <td>all food is good and tasty . will order again ...</td>\n",
       "      <td>0.000</td>\n",
       "      <td>0.847</td>\n",
       "      <td>0.153</td>\n",
       "      <td>0.4404</td>\n",
       "    </tr>\n",
       "    <tr>\n",
       "      <th>...</th>\n",
       "      <td>...</td>\n",
       "      <td>...</td>\n",
       "      <td>...</td>\n",
       "      <td>...</td>\n",
       "      <td>...</td>\n",
       "      <td>...</td>\n",
       "      <td>...</td>\n",
       "    </tr>\n",
       "    <tr>\n",
       "      <th>5474</th>\n",
       "      <td>5474</td>\n",
       "      <td>5</td>\n",
       "      <td>complain</td>\n",
       "      <td>1.000</td>\n",
       "      <td>0.000</td>\n",
       "      <td>0.000</td>\n",
       "      <td>-0.3612</td>\n",
       "    </tr>\n",
       "    <tr>\n",
       "      <th>5475</th>\n",
       "      <td>5475</td>\n",
       "      <td>5</td>\n",
       "      <td>it took 1 hour to assign valvet and thn prepar...</td>\n",
       "      <td>0.141</td>\n",
       "      <td>0.753</td>\n",
       "      <td>0.106</td>\n",
       "      <td>-0.3343</td>\n",
       "    </tr>\n",
       "    <tr>\n",
       "      <th>5476</th>\n",
       "      <td>5476</td>\n",
       "      <td>5</td>\n",
       "      <td>took for an hour to prepare 3 khawsa, which in...</td>\n",
       "      <td>0.000</td>\n",
       "      <td>0.913</td>\n",
       "      <td>0.087</td>\n",
       "      <td>0.2263</td>\n",
       "    </tr>\n",
       "    <tr>\n",
       "      <th>5477</th>\n",
       "      <td>5477</td>\n",
       "      <td>1</td>\n",
       "      <td>very very late, littrally did time pass and it...</td>\n",
       "      <td>0.000</td>\n",
       "      <td>1.000</td>\n",
       "      <td>0.000</td>\n",
       "      <td>0.0000</td>\n",
       "    </tr>\n",
       "    <tr>\n",
       "      <th>5478</th>\n",
       "      <td>5478</td>\n",
       "      <td>1</td>\n",
       "      <td>Taste was stale and they give only 5 pieces in...</td>\n",
       "      <td>0.000</td>\n",
       "      <td>0.770</td>\n",
       "      <td>0.230</td>\n",
       "      <td>0.5831</td>\n",
       "    </tr>\n",
       "  </tbody>\n",
       "</table>\n",
       "<p>5478 rows × 7 columns</p>\n",
       "</div>"
      ],
      "text/plain": [
       "      Unnamed: 0  rating                                             review  \\\n",
       "0              0       5                                               nice   \n",
       "1              1       5  best biryani , so supportive staff of outlet ,...   \n",
       "2              2       4     delivery boy was very decent and supportive.👌👍   \n",
       "3              3       1  worst biryani i have tasted in my life, half o...   \n",
       "4              4       5  all food is good and tasty . will order again ...   \n",
       "...          ...     ...                                                ...   \n",
       "5474        5474       5                                           complain   \n",
       "5475        5475       5  it took 1 hour to assign valvet and thn prepar...   \n",
       "5476        5476       5  took for an hour to prepare 3 khawsa, which in...   \n",
       "5477        5477       1  very very late, littrally did time pass and it...   \n",
       "5478        5478       1  Taste was stale and they give only 5 pieces in...   \n",
       "\n",
       "        neg    neu    pos  compound  \n",
       "0     0.000  0.000  1.000    0.4215  \n",
       "1     0.000  0.691  0.309    0.7713  \n",
       "2     0.000  1.000  0.000    0.0000  \n",
       "3     0.240  0.760  0.000   -0.6249  \n",
       "4     0.000  0.847  0.153    0.4404  \n",
       "...     ...    ...    ...       ...  \n",
       "5474  1.000  0.000  0.000   -0.3612  \n",
       "5475  0.141  0.753  0.106   -0.3343  \n",
       "5476  0.000  0.913  0.087    0.2263  \n",
       "5477  0.000  1.000  0.000    0.0000  \n",
       "5478  0.000  0.770  0.230    0.5831  \n",
       "\n",
       "[5478 rows x 7 columns]"
      ]
     },
     "execution_count": 9,
     "metadata": {},
     "output_type": "execute_result"
    }
   ],
   "source": [
    "data"
   ]
  },
  {
   "cell_type": "code",
   "execution_count": 10,
   "id": "fcff07e6-ed28-4d6a-8290-b10a31a1b442",
   "metadata": {},
   "outputs": [
    {
     "data": {
      "text/html": [
       "<div>\n",
       "<style scoped>\n",
       "    .dataframe tbody tr th:only-of-type {\n",
       "        vertical-align: middle;\n",
       "    }\n",
       "\n",
       "    .dataframe tbody tr th {\n",
       "        vertical-align: top;\n",
       "    }\n",
       "\n",
       "    .dataframe thead th {\n",
       "        text-align: right;\n",
       "    }\n",
       "</style>\n",
       "<table border=\"1\" class=\"dataframe\">\n",
       "  <thead>\n",
       "    <tr style=\"text-align: right;\">\n",
       "      <th></th>\n",
       "      <th>Customer_Id</th>\n",
       "      <th>rating</th>\n",
       "      <th>review</th>\n",
       "      <th>neg</th>\n",
       "      <th>neu</th>\n",
       "      <th>pos</th>\n",
       "      <th>Overall_Sent_Score</th>\n",
       "    </tr>\n",
       "  </thead>\n",
       "  <tbody>\n",
       "    <tr>\n",
       "      <th>0</th>\n",
       "      <td>0</td>\n",
       "      <td>5</td>\n",
       "      <td>nice</td>\n",
       "      <td>0.000</td>\n",
       "      <td>0.000</td>\n",
       "      <td>1.000</td>\n",
       "      <td>0.4215</td>\n",
       "    </tr>\n",
       "    <tr>\n",
       "      <th>1</th>\n",
       "      <td>1</td>\n",
       "      <td>5</td>\n",
       "      <td>best biryani , so supportive staff of outlet ,...</td>\n",
       "      <td>0.000</td>\n",
       "      <td>0.691</td>\n",
       "      <td>0.309</td>\n",
       "      <td>0.7713</td>\n",
       "    </tr>\n",
       "    <tr>\n",
       "      <th>2</th>\n",
       "      <td>2</td>\n",
       "      <td>4</td>\n",
       "      <td>delivery boy was very decent and supportive.👌👍</td>\n",
       "      <td>0.000</td>\n",
       "      <td>1.000</td>\n",
       "      <td>0.000</td>\n",
       "      <td>0.0000</td>\n",
       "    </tr>\n",
       "    <tr>\n",
       "      <th>3</th>\n",
       "      <td>3</td>\n",
       "      <td>1</td>\n",
       "      <td>worst biryani i have tasted in my life, half o...</td>\n",
       "      <td>0.240</td>\n",
       "      <td>0.760</td>\n",
       "      <td>0.000</td>\n",
       "      <td>-0.6249</td>\n",
       "    </tr>\n",
       "    <tr>\n",
       "      <th>4</th>\n",
       "      <td>4</td>\n",
       "      <td>5</td>\n",
       "      <td>all food is good and tasty . will order again ...</td>\n",
       "      <td>0.000</td>\n",
       "      <td>0.847</td>\n",
       "      <td>0.153</td>\n",
       "      <td>0.4404</td>\n",
       "    </tr>\n",
       "    <tr>\n",
       "      <th>...</th>\n",
       "      <td>...</td>\n",
       "      <td>...</td>\n",
       "      <td>...</td>\n",
       "      <td>...</td>\n",
       "      <td>...</td>\n",
       "      <td>...</td>\n",
       "      <td>...</td>\n",
       "    </tr>\n",
       "    <tr>\n",
       "      <th>5474</th>\n",
       "      <td>5474</td>\n",
       "      <td>5</td>\n",
       "      <td>complain</td>\n",
       "      <td>1.000</td>\n",
       "      <td>0.000</td>\n",
       "      <td>0.000</td>\n",
       "      <td>-0.3612</td>\n",
       "    </tr>\n",
       "    <tr>\n",
       "      <th>5475</th>\n",
       "      <td>5475</td>\n",
       "      <td>5</td>\n",
       "      <td>it took 1 hour to assign valvet and thn prepar...</td>\n",
       "      <td>0.141</td>\n",
       "      <td>0.753</td>\n",
       "      <td>0.106</td>\n",
       "      <td>-0.3343</td>\n",
       "    </tr>\n",
       "    <tr>\n",
       "      <th>5476</th>\n",
       "      <td>5476</td>\n",
       "      <td>5</td>\n",
       "      <td>took for an hour to prepare 3 khawsa, which in...</td>\n",
       "      <td>0.000</td>\n",
       "      <td>0.913</td>\n",
       "      <td>0.087</td>\n",
       "      <td>0.2263</td>\n",
       "    </tr>\n",
       "    <tr>\n",
       "      <th>5477</th>\n",
       "      <td>5477</td>\n",
       "      <td>1</td>\n",
       "      <td>very very late, littrally did time pass and it...</td>\n",
       "      <td>0.000</td>\n",
       "      <td>1.000</td>\n",
       "      <td>0.000</td>\n",
       "      <td>0.0000</td>\n",
       "    </tr>\n",
       "    <tr>\n",
       "      <th>5478</th>\n",
       "      <td>5478</td>\n",
       "      <td>1</td>\n",
       "      <td>Taste was stale and they give only 5 pieces in...</td>\n",
       "      <td>0.000</td>\n",
       "      <td>0.770</td>\n",
       "      <td>0.230</td>\n",
       "      <td>0.5831</td>\n",
       "    </tr>\n",
       "  </tbody>\n",
       "</table>\n",
       "<p>5478 rows × 7 columns</p>\n",
       "</div>"
      ],
      "text/plain": [
       "      Customer_Id  rating                                             review  \\\n",
       "0               0       5                                               nice   \n",
       "1               1       5  best biryani , so supportive staff of outlet ,...   \n",
       "2               2       4     delivery boy was very decent and supportive.👌👍   \n",
       "3               3       1  worst biryani i have tasted in my life, half o...   \n",
       "4               4       5  all food is good and tasty . will order again ...   \n",
       "...           ...     ...                                                ...   \n",
       "5474         5474       5                                           complain   \n",
       "5475         5475       5  it took 1 hour to assign valvet and thn prepar...   \n",
       "5476         5476       5  took for an hour to prepare 3 khawsa, which in...   \n",
       "5477         5477       1  very very late, littrally did time pass and it...   \n",
       "5478         5478       1  Taste was stale and they give only 5 pieces in...   \n",
       "\n",
       "        neg    neu    pos  Overall_Sent_Score  \n",
       "0     0.000  0.000  1.000              0.4215  \n",
       "1     0.000  0.691  0.309              0.7713  \n",
       "2     0.000  1.000  0.000              0.0000  \n",
       "3     0.240  0.760  0.000             -0.6249  \n",
       "4     0.000  0.847  0.153              0.4404  \n",
       "...     ...    ...    ...                 ...  \n",
       "5474  1.000  0.000  0.000             -0.3612  \n",
       "5475  0.141  0.753  0.106             -0.3343  \n",
       "5476  0.000  0.913  0.087              0.2263  \n",
       "5477  0.000  1.000  0.000              0.0000  \n",
       "5478  0.000  0.770  0.230              0.5831  \n",
       "\n",
       "[5478 rows x 7 columns]"
      ]
     },
     "execution_count": 10,
     "metadata": {},
     "output_type": "execute_result"
    }
   ],
   "source": [
    "# Renaming the compound score and Unnamed:0 as the overall sentiment score and Customer_Id\n",
    "data.rename(columns={'compound':'Overall_Sent_Score','Unnamed: 0':'Customer_Id'},inplace=True) \n",
    "data"
   ]
  },
  {
   "cell_type": "code",
   "execution_count": 11,
   "id": "5d2f091a-41f9-426b-b458-29cb2002b821",
   "metadata": {},
   "outputs": [
    {
     "data": {
      "text/html": [
       "<div>\n",
       "<style scoped>\n",
       "    .dataframe tbody tr th:only-of-type {\n",
       "        vertical-align: middle;\n",
       "    }\n",
       "\n",
       "    .dataframe tbody tr th {\n",
       "        vertical-align: top;\n",
       "    }\n",
       "\n",
       "    .dataframe thead th {\n",
       "        text-align: right;\n",
       "    }\n",
       "</style>\n",
       "<table border=\"1\" class=\"dataframe\">\n",
       "  <thead>\n",
       "    <tr style=\"text-align: right;\">\n",
       "      <th></th>\n",
       "      <th>review</th>\n",
       "      <th>Overall_Sent_Score</th>\n",
       "      <th>Sentiment_Type</th>\n",
       "    </tr>\n",
       "  </thead>\n",
       "  <tbody>\n",
       "    <tr>\n",
       "      <th>0</th>\n",
       "      <td>nice</td>\n",
       "      <td>0.4215</td>\n",
       "      <td>Positive</td>\n",
       "    </tr>\n",
       "    <tr>\n",
       "      <th>1</th>\n",
       "      <td>best biryani , so supportive staff of outlet ,...</td>\n",
       "      <td>0.7713</td>\n",
       "      <td>Positive</td>\n",
       "    </tr>\n",
       "    <tr>\n",
       "      <th>2</th>\n",
       "      <td>delivery boy was very decent and supportive.👌👍</td>\n",
       "      <td>0.0000</td>\n",
       "      <td>Positive</td>\n",
       "    </tr>\n",
       "    <tr>\n",
       "      <th>3</th>\n",
       "      <td>worst biryani i have tasted in my life, half o...</td>\n",
       "      <td>-0.6249</td>\n",
       "      <td>Negative</td>\n",
       "    </tr>\n",
       "    <tr>\n",
       "      <th>4</th>\n",
       "      <td>all food is good and tasty . will order again ...</td>\n",
       "      <td>0.4404</td>\n",
       "      <td>Positive</td>\n",
       "    </tr>\n",
       "  </tbody>\n",
       "</table>\n",
       "</div>"
      ],
      "text/plain": [
       "                                              review  Overall_Sent_Score  \\\n",
       "0                                               nice              0.4215   \n",
       "1  best biryani , so supportive staff of outlet ,...              0.7713   \n",
       "2     delivery boy was very decent and supportive.👌👍              0.0000   \n",
       "3  worst biryani i have tasted in my life, half o...             -0.6249   \n",
       "4  all food is good and tasty . will order again ...              0.4404   \n",
       "\n",
       "  Sentiment_Type  \n",
       "0       Positive  \n",
       "1       Positive  \n",
       "2       Positive  \n",
       "3       Negative  \n",
       "4       Positive  "
      ]
     },
     "execution_count": 11,
     "metadata": {},
     "output_type": "execute_result"
    }
   ],
   "source": [
    "# Sentiment Classifier \n",
    "data['Sentiment_Type']=data['Overall_Sent_Score'].apply(lambda c:'Positive' if c>=0 else 'Negative')\n",
    "data1=data.loc[:,['review','Overall_Sent_Score',\"Sentiment_Type\"]]\n",
    "data1.head()"
   ]
  },
  {
   "cell_type": "code",
   "execution_count": 12,
   "id": "670e7ad4-a1cd-4936-8abe-85492cb7ae29",
   "metadata": {},
   "outputs": [
    {
     "data": {
      "text/html": [
       "<div>\n",
       "<style scoped>\n",
       "    .dataframe tbody tr th:only-of-type {\n",
       "        vertical-align: middle;\n",
       "    }\n",
       "\n",
       "    .dataframe tbody tr th {\n",
       "        vertical-align: top;\n",
       "    }\n",
       "\n",
       "    .dataframe thead th {\n",
       "        text-align: right;\n",
       "    }\n",
       "</style>\n",
       "<table border=\"1\" class=\"dataframe\">\n",
       "  <thead>\n",
       "    <tr style=\"text-align: right;\">\n",
       "      <th>Sentiment_Type</th>\n",
       "      <th>Negative</th>\n",
       "      <th>Positive</th>\n",
       "    </tr>\n",
       "    <tr>\n",
       "      <th>rating</th>\n",
       "      <th></th>\n",
       "      <th></th>\n",
       "    </tr>\n",
       "  </thead>\n",
       "  <tbody>\n",
       "    <tr>\n",
       "      <th>1</th>\n",
       "      <td>561</td>\n",
       "      <td>1330</td>\n",
       "    </tr>\n",
       "    <tr>\n",
       "      <th>2</th>\n",
       "      <td>107</td>\n",
       "      <td>261</td>\n",
       "    </tr>\n",
       "    <tr>\n",
       "      <th>3</th>\n",
       "      <td>141</td>\n",
       "      <td>333</td>\n",
       "    </tr>\n",
       "    <tr>\n",
       "      <th>4</th>\n",
       "      <td>124</td>\n",
       "      <td>333</td>\n",
       "    </tr>\n",
       "    <tr>\n",
       "      <th>5</th>\n",
       "      <td>644</td>\n",
       "      <td>1644</td>\n",
       "    </tr>\n",
       "  </tbody>\n",
       "</table>\n",
       "</div>"
      ],
      "text/plain": [
       "Sentiment_Type  Negative  Positive\n",
       "rating                            \n",
       "1                    561      1330\n",
       "2                    107       261\n",
       "3                    141       333\n",
       "4                    124       333\n",
       "5                    644      1644"
      ]
     },
     "execution_count": 12,
     "metadata": {},
     "output_type": "execute_result"
    }
   ],
   "source": [
    "# Overall performance of VADER \n",
    "import pandas as pd \n",
    "pd.crosstab(data['rating'],data['Sentiment_Type'])"
   ]
  },
  {
   "cell_type": "code",
   "execution_count": 13,
   "id": "f751f249-d430-4d6a-935c-834372d57555",
   "metadata": {},
   "outputs": [
    {
     "name": "stdout",
     "output_type": "stream",
     "text": [
      "Sentiment_Type\n",
      "Positive    3901\n",
      "Negative    1577\n",
      "Name: count, dtype: int64\n"
     ]
    }
   ],
   "source": [
    "# Finding count and distribution \n",
    "print(data['Sentiment_Type'].value_counts())\n"
   ]
  },
  {
   "cell_type": "code",
   "execution_count": null,
   "id": "8cb7352b-9640-47e6-b133-fb2a82264c09",
   "metadata": {},
   "outputs": [],
   "source": []
  },
  {
   "cell_type": "code",
   "execution_count": 21,
   "id": "bff99103-6ec6-401b-93d5-b8bfef1d42f5",
   "metadata": {},
   "outputs": [
    {
     "data": {
      "application/vnd.plotly.v1+json": {
       "config": {
        "plotlyServerURL": "https://plot.ly"
       },
       "data": [
        {
         "customdata": [
          [
           "Positive"
          ],
          [
           "Negative"
          ]
         ],
         "domain": {
          "x": [
           0,
           1
          ],
          "y": [
           0,
           1
          ]
         },
         "hole": 0.3,
         "hovertemplate": "Sentiment=%{customdata[0]}<br>Count=%{value}<extra></extra>",
         "labels": [
          "Positive",
          "Negative"
         ],
         "legendgroup": "",
         "marker": {
          "colors": [
           "#007BFF",
           "#FF3F3F"
          ]
         },
         "name": "",
         "pull": [
          0.1,
          0.1,
          0.1
         ],
         "showlegend": true,
         "textinfo": "percent+label",
         "type": "pie",
         "values": {
          "bdata": "PQ8pBg==",
          "dtype": "i2"
         }
        }
       ],
       "layout": {
        "legend": {
         "tracegroupgap": 0
        },
        "template": {
         "data": {
          "bar": [
           {
            "error_x": {
             "color": "#2a3f5f"
            },
            "error_y": {
             "color": "#2a3f5f"
            },
            "marker": {
             "line": {
              "color": "#E5ECF6",
              "width": 0.5
             },
             "pattern": {
              "fillmode": "overlay",
              "size": 10,
              "solidity": 0.2
             }
            },
            "type": "bar"
           }
          ],
          "barpolar": [
           {
            "marker": {
             "line": {
              "color": "#E5ECF6",
              "width": 0.5
             },
             "pattern": {
              "fillmode": "overlay",
              "size": 10,
              "solidity": 0.2
             }
            },
            "type": "barpolar"
           }
          ],
          "carpet": [
           {
            "aaxis": {
             "endlinecolor": "#2a3f5f",
             "gridcolor": "white",
             "linecolor": "white",
             "minorgridcolor": "white",
             "startlinecolor": "#2a3f5f"
            },
            "baxis": {
             "endlinecolor": "#2a3f5f",
             "gridcolor": "white",
             "linecolor": "white",
             "minorgridcolor": "white",
             "startlinecolor": "#2a3f5f"
            },
            "type": "carpet"
           }
          ],
          "choropleth": [
           {
            "colorbar": {
             "outlinewidth": 0,
             "ticks": ""
            },
            "type": "choropleth"
           }
          ],
          "contour": [
           {
            "colorbar": {
             "outlinewidth": 0,
             "ticks": ""
            },
            "colorscale": [
             [
              0,
              "#0d0887"
             ],
             [
              0.1111111111111111,
              "#46039f"
             ],
             [
              0.2222222222222222,
              "#7201a8"
             ],
             [
              0.3333333333333333,
              "#9c179e"
             ],
             [
              0.4444444444444444,
              "#bd3786"
             ],
             [
              0.5555555555555556,
              "#d8576b"
             ],
             [
              0.6666666666666666,
              "#ed7953"
             ],
             [
              0.7777777777777778,
              "#fb9f3a"
             ],
             [
              0.8888888888888888,
              "#fdca26"
             ],
             [
              1,
              "#f0f921"
             ]
            ],
            "type": "contour"
           }
          ],
          "contourcarpet": [
           {
            "colorbar": {
             "outlinewidth": 0,
             "ticks": ""
            },
            "type": "contourcarpet"
           }
          ],
          "heatmap": [
           {
            "colorbar": {
             "outlinewidth": 0,
             "ticks": ""
            },
            "colorscale": [
             [
              0,
              "#0d0887"
             ],
             [
              0.1111111111111111,
              "#46039f"
             ],
             [
              0.2222222222222222,
              "#7201a8"
             ],
             [
              0.3333333333333333,
              "#9c179e"
             ],
             [
              0.4444444444444444,
              "#bd3786"
             ],
             [
              0.5555555555555556,
              "#d8576b"
             ],
             [
              0.6666666666666666,
              "#ed7953"
             ],
             [
              0.7777777777777778,
              "#fb9f3a"
             ],
             [
              0.8888888888888888,
              "#fdca26"
             ],
             [
              1,
              "#f0f921"
             ]
            ],
            "type": "heatmap"
           }
          ],
          "histogram": [
           {
            "marker": {
             "pattern": {
              "fillmode": "overlay",
              "size": 10,
              "solidity": 0.2
             }
            },
            "type": "histogram"
           }
          ],
          "histogram2d": [
           {
            "colorbar": {
             "outlinewidth": 0,
             "ticks": ""
            },
            "colorscale": [
             [
              0,
              "#0d0887"
             ],
             [
              0.1111111111111111,
              "#46039f"
             ],
             [
              0.2222222222222222,
              "#7201a8"
             ],
             [
              0.3333333333333333,
              "#9c179e"
             ],
             [
              0.4444444444444444,
              "#bd3786"
             ],
             [
              0.5555555555555556,
              "#d8576b"
             ],
             [
              0.6666666666666666,
              "#ed7953"
             ],
             [
              0.7777777777777778,
              "#fb9f3a"
             ],
             [
              0.8888888888888888,
              "#fdca26"
             ],
             [
              1,
              "#f0f921"
             ]
            ],
            "type": "histogram2d"
           }
          ],
          "histogram2dcontour": [
           {
            "colorbar": {
             "outlinewidth": 0,
             "ticks": ""
            },
            "colorscale": [
             [
              0,
              "#0d0887"
             ],
             [
              0.1111111111111111,
              "#46039f"
             ],
             [
              0.2222222222222222,
              "#7201a8"
             ],
             [
              0.3333333333333333,
              "#9c179e"
             ],
             [
              0.4444444444444444,
              "#bd3786"
             ],
             [
              0.5555555555555556,
              "#d8576b"
             ],
             [
              0.6666666666666666,
              "#ed7953"
             ],
             [
              0.7777777777777778,
              "#fb9f3a"
             ],
             [
              0.8888888888888888,
              "#fdca26"
             ],
             [
              1,
              "#f0f921"
             ]
            ],
            "type": "histogram2dcontour"
           }
          ],
          "mesh3d": [
           {
            "colorbar": {
             "outlinewidth": 0,
             "ticks": ""
            },
            "type": "mesh3d"
           }
          ],
          "parcoords": [
           {
            "line": {
             "colorbar": {
              "outlinewidth": 0,
              "ticks": ""
             }
            },
            "type": "parcoords"
           }
          ],
          "pie": [
           {
            "automargin": true,
            "type": "pie"
           }
          ],
          "scatter": [
           {
            "fillpattern": {
             "fillmode": "overlay",
             "size": 10,
             "solidity": 0.2
            },
            "type": "scatter"
           }
          ],
          "scatter3d": [
           {
            "line": {
             "colorbar": {
              "outlinewidth": 0,
              "ticks": ""
             }
            },
            "marker": {
             "colorbar": {
              "outlinewidth": 0,
              "ticks": ""
             }
            },
            "type": "scatter3d"
           }
          ],
          "scattercarpet": [
           {
            "marker": {
             "colorbar": {
              "outlinewidth": 0,
              "ticks": ""
             }
            },
            "type": "scattercarpet"
           }
          ],
          "scattergeo": [
           {
            "marker": {
             "colorbar": {
              "outlinewidth": 0,
              "ticks": ""
             }
            },
            "type": "scattergeo"
           }
          ],
          "scattergl": [
           {
            "marker": {
             "colorbar": {
              "outlinewidth": 0,
              "ticks": ""
             }
            },
            "type": "scattergl"
           }
          ],
          "scattermap": [
           {
            "marker": {
             "colorbar": {
              "outlinewidth": 0,
              "ticks": ""
             }
            },
            "type": "scattermap"
           }
          ],
          "scattermapbox": [
           {
            "marker": {
             "colorbar": {
              "outlinewidth": 0,
              "ticks": ""
             }
            },
            "type": "scattermapbox"
           }
          ],
          "scatterpolar": [
           {
            "marker": {
             "colorbar": {
              "outlinewidth": 0,
              "ticks": ""
             }
            },
            "type": "scatterpolar"
           }
          ],
          "scatterpolargl": [
           {
            "marker": {
             "colorbar": {
              "outlinewidth": 0,
              "ticks": ""
             }
            },
            "type": "scatterpolargl"
           }
          ],
          "scatterternary": [
           {
            "marker": {
             "colorbar": {
              "outlinewidth": 0,
              "ticks": ""
             }
            },
            "type": "scatterternary"
           }
          ],
          "surface": [
           {
            "colorbar": {
             "outlinewidth": 0,
             "ticks": ""
            },
            "colorscale": [
             [
              0,
              "#0d0887"
             ],
             [
              0.1111111111111111,
              "#46039f"
             ],
             [
              0.2222222222222222,
              "#7201a8"
             ],
             [
              0.3333333333333333,
              "#9c179e"
             ],
             [
              0.4444444444444444,
              "#bd3786"
             ],
             [
              0.5555555555555556,
              "#d8576b"
             ],
             [
              0.6666666666666666,
              "#ed7953"
             ],
             [
              0.7777777777777778,
              "#fb9f3a"
             ],
             [
              0.8888888888888888,
              "#fdca26"
             ],
             [
              1,
              "#f0f921"
             ]
            ],
            "type": "surface"
           }
          ],
          "table": [
           {
            "cells": {
             "fill": {
              "color": "#EBF0F8"
             },
             "line": {
              "color": "white"
             }
            },
            "header": {
             "fill": {
              "color": "#C8D4E3"
             },
             "line": {
              "color": "white"
             }
            },
            "type": "table"
           }
          ]
         },
         "layout": {
          "annotationdefaults": {
           "arrowcolor": "#2a3f5f",
           "arrowhead": 0,
           "arrowwidth": 1
          },
          "autotypenumbers": "strict",
          "coloraxis": {
           "colorbar": {
            "outlinewidth": 0,
            "ticks": ""
           }
          },
          "colorscale": {
           "diverging": [
            [
             0,
             "#8e0152"
            ],
            [
             0.1,
             "#c51b7d"
            ],
            [
             0.2,
             "#de77ae"
            ],
            [
             0.3,
             "#f1b6da"
            ],
            [
             0.4,
             "#fde0ef"
            ],
            [
             0.5,
             "#f7f7f7"
            ],
            [
             0.6,
             "#e6f5d0"
            ],
            [
             0.7,
             "#b8e186"
            ],
            [
             0.8,
             "#7fbc41"
            ],
            [
             0.9,
             "#4d9221"
            ],
            [
             1,
             "#276419"
            ]
           ],
           "sequential": [
            [
             0,
             "#0d0887"
            ],
            [
             0.1111111111111111,
             "#46039f"
            ],
            [
             0.2222222222222222,
             "#7201a8"
            ],
            [
             0.3333333333333333,
             "#9c179e"
            ],
            [
             0.4444444444444444,
             "#bd3786"
            ],
            [
             0.5555555555555556,
             "#d8576b"
            ],
            [
             0.6666666666666666,
             "#ed7953"
            ],
            [
             0.7777777777777778,
             "#fb9f3a"
            ],
            [
             0.8888888888888888,
             "#fdca26"
            ],
            [
             1,
             "#f0f921"
            ]
           ],
           "sequentialminus": [
            [
             0,
             "#0d0887"
            ],
            [
             0.1111111111111111,
             "#46039f"
            ],
            [
             0.2222222222222222,
             "#7201a8"
            ],
            [
             0.3333333333333333,
             "#9c179e"
            ],
            [
             0.4444444444444444,
             "#bd3786"
            ],
            [
             0.5555555555555556,
             "#d8576b"
            ],
            [
             0.6666666666666666,
             "#ed7953"
            ],
            [
             0.7777777777777778,
             "#fb9f3a"
            ],
            [
             0.8888888888888888,
             "#fdca26"
            ],
            [
             1,
             "#f0f921"
            ]
           ]
          },
          "colorway": [
           "#636efa",
           "#EF553B",
           "#00cc96",
           "#ab63fa",
           "#FFA15A",
           "#19d3f3",
           "#FF6692",
           "#B6E880",
           "#FF97FF",
           "#FECB52"
          ],
          "font": {
           "color": "#2a3f5f"
          },
          "geo": {
           "bgcolor": "white",
           "lakecolor": "white",
           "landcolor": "#E5ECF6",
           "showlakes": true,
           "showland": true,
           "subunitcolor": "white"
          },
          "hoverlabel": {
           "align": "left"
          },
          "hovermode": "closest",
          "mapbox": {
           "style": "light"
          },
          "paper_bgcolor": "white",
          "plot_bgcolor": "#E5ECF6",
          "polar": {
           "angularaxis": {
            "gridcolor": "white",
            "linecolor": "white",
            "ticks": ""
           },
           "bgcolor": "#E5ECF6",
           "radialaxis": {
            "gridcolor": "white",
            "linecolor": "white",
            "ticks": ""
           }
          },
          "scene": {
           "xaxis": {
            "backgroundcolor": "#E5ECF6",
            "gridcolor": "white",
            "gridwidth": 2,
            "linecolor": "white",
            "showbackground": true,
            "ticks": "",
            "zerolinecolor": "white"
           },
           "yaxis": {
            "backgroundcolor": "#E5ECF6",
            "gridcolor": "white",
            "gridwidth": 2,
            "linecolor": "white",
            "showbackground": true,
            "ticks": "",
            "zerolinecolor": "white"
           },
           "zaxis": {
            "backgroundcolor": "#E5ECF6",
            "gridcolor": "white",
            "gridwidth": 2,
            "linecolor": "white",
            "showbackground": true,
            "ticks": "",
            "zerolinecolor": "white"
           }
          },
          "shapedefaults": {
           "line": {
            "color": "#2a3f5f"
           }
          },
          "ternary": {
           "aaxis": {
            "gridcolor": "white",
            "linecolor": "white",
            "ticks": ""
           },
           "baxis": {
            "gridcolor": "white",
            "linecolor": "white",
            "ticks": ""
           },
           "bgcolor": "#E5ECF6",
           "caxis": {
            "gridcolor": "white",
            "linecolor": "white",
            "ticks": ""
           }
          },
          "title": {
           "x": 0.05
          },
          "xaxis": {
           "automargin": true,
           "gridcolor": "white",
           "linecolor": "white",
           "ticks": "",
           "title": {
            "standoff": 15
           },
           "zerolinecolor": "white",
           "zerolinewidth": 2
          },
          "yaxis": {
           "automargin": true,
           "gridcolor": "white",
           "linecolor": "white",
           "ticks": "",
           "title": {
            "standoff": 15
           },
           "zerolinecolor": "white",
           "zerolinewidth": 2
          }
         }
        },
        "title": {
         "text": "Sentiment Distribution"
        }
       }
      },
      "image/png": "[encoded data removed]"
     },
     "metadata": {},
     "output_type": "display_data"
    }
   ],
   "source": [
    "import plotly.express as px\n",
    "\n",
    "sentiment_counts = data['Sentiment_Type'].value_counts().reset_index()\n",
    "sentiment_counts.columns = ['Sentiment', 'Count']\n",
    "\n",
    "colors = {\n",
    "    'Positive': '#007BFF',   \n",
    "    'Negative': '#FF3F3F',   \n",
    "}\n",
    "\n",
    "fig = px.pie(\n",
    "\n",
    "     sentiment_counts,\n",
    "    names='Sentiment',\n",
    "    values='Count',\n",
    "    title=\"Sentiment Distribution\",\n",
    "    hole=0.3,\n",
    "    color='Sentiment',\n",
    "    color_discrete_map=colors\n",
    "  \n",
    ")\n",
    "\n",
    "\n",
    "\n",
    "\n",
    "fig.update_traces(pull=[0.1, 0.1, 0.1], textinfo='percent+label')\n",
    "\n",
    "fig.show()\n"
   ]
  },
  {
   "cell_type": "code",
   "execution_count": 22,
   "id": "5c9a1f48-0566-4b1c-a86e-2aca6010083b",
   "metadata": {},
   "outputs": [
    {
     "data": {
      "application/vnd.plotly.v1+json": {
       "config": {
        "plotlyServerURL": "https://plot.ly"
       },
       "data": [
        {
         "alignmentgroup": "True",
         "bingroup": "x",
         "hovertemplate": "Sentiment_Type=Positive<br>Rating=%{x}<br>count=%{y}<extra></extra>",
         "legendgroup": "Positive",
         "marker": {
          "color": "#007BFF",
          "pattern": {
           "shape": ""
          }
         },
         "name": "Positive",
         "offsetgroup": "Positive",
         "orientation": "v",
         "showlegend": true,
         "type": "histogram",
         "x": {
          "bdata": "BQUEBQUFAQUFBAUFBQUFBQUFAQUFBQUFBQUFAwEBBQIFAQECAQEBAQMCAwECAgMBBQMFAgUFBQUCAQECBAEBBQQBAwUFAQIFBQQBBQEEAQEEAgUFBQUBAQEBAgUBBAUCAQQDBQEBAQEDAQUBAQEBAQQFBQUBAQEFBQQBAQEBBQUFAwUFBQEDAwUBBQIFBQUFBQUBAwEEBQUFBQEFBQUFBQMBAQUFAQUBBQEFBQUDBQEBBQUCBQUBAQEBBQMFAwUDAQUFAQUBAQIFAQUBAQEFBQQDAwEBAQEBAgEBAQEFBQUCBAEDAQIBBQMBAgEFAwUFAQEBBAEEAQQFBQUBAQIBBQUBBQUFAQEBBQUBBQECBQUFBQIEBQUDBQUFAwMDBQEFAgEFAwECBQMEBAQFBQUFAQEBBQQBBQUFBQQFAQEBAQUFAgUFBQEFAgIFAwUFAQEFBAIDAgUBAQUCBAEBBAUFBAEEAwUBBAEFAwUBAQUFAQEBAwMFAQUBBQUBAwEBAQIFBQQBAgEDBAUBAgUFAwEDAQUBAQEEBQQDAwUFAQEBAwEFBQUEBQEEBQUFAQIDBAQEBQUCBQUFBQQBAgEFBQQBBAIBBQUBAwUDAwEEAQEDAQEBBAEFAQIFBQQFBQUEAwQBBQIBAwUBBQUFAQIBBQEBAQUFBQQDAwQEBQUBAQEBAQUFBQEBAwECAQEBAQEBAQUFAwEDAQQFBAEBAQEBBQQFAQEBAwIBBQUBBQIFAQUBAQECAQEBBQUDAQQFBAUBBQEFBQEDBQEEBQUFBQIFBQEBAQIDAQEEAQEEAQECAQEBAQQBAgEBAQEDAgECAQUFAQUBBQUBAQUBBQEFBQEFBQMCAQMFAgEBAwUFAQEBBAICAQMBAQQFBQQFAQMDAwEBBQEFBAUFBQIFBQUCBQQBBQMFBQIBBQUFBQQCBQEBBQUFAQUFBQUFBAUBAQUFBQIFBQEFBQUFAQUFAQEBBAECAQECAQEDBQUBBQUBBQUFAwEFBQUFBQEBBQMFBQUBAQQFAQEFBAUDAQEFBQUBBAQFBQQBBQQBBQEFBQUFAQUBBAIBAwEBAQUFAQEFAQUFAQQFAwEFBQUBBQUFAQEFAQEBBAEEAQUFAwUFBQUDBQUBBQQBBQEFBQEEBQMEBQEEBAEFBQUEBQEFBQQBBQQFBQEBAgEFAQQBAgEBBQEBAQQFAQUFAQQFBAUBBQECAQIDAQUFAQEEBQIFAQMBBQUFAgQEBQUBAQEBAQMCAQMBAgMDBQUBBQEFAwEFBQUBBQECAQIBAQEBAQIFBAUCAwMBBAEBBQEEBQICAQIFAQEBAQQFBQQFAQEBAgQCAQIFBQMFBQUEBAEDAwQFAQQDAQEBAgEBAwECAQEBAQIBAQIEAQUFAwEDBQECAwUBBQUBAQEFAQEBBQUEAQUCBQQBBAEBAQUDBQMFAQQBAQEBAQIDAwEBBAUCAQQBAwMBAwQDAwUDAgQBBAMCBAEBAQEEAQEEAwIBBQUBBAEBBQMFBQIBBQUBBAMCBQQCBAUFAQMBAgEBAQUDBQUBAQUFBAIBAQUBAQEFBQUFAQUEBQUEBAEFBQEFAQUFBQMBBQUEAQMFBQQFAQEBAgEFAQUFAQUFBQEBAQEBAQEDBAUBBQEBBQEDAQEEBAUDBAEFAwECBQMBAwUBAwMFAQEBBQUFBQUFBQUBAQEDAwEBBQUBBQMFBQUFBQEFBQQFAQEFBQQBBQEDBQEFAQUBAgUBAQEFBQQDAQEFBAUFAQUBAQIFAQECBQUBAQEBAwEFBQUFAQUFBQUFBQMFAQEFAQMEAQEFBQUFBQUBBQUBAQEBAQEBBAEDBQEBAgUFAQEBBQQFBQUFAQUBBQMBBQMCBQIBAwEBBQMFAQMFAwQFBQUFBAIBBQEBAQUFAwIFAQUBBQUBBQUFBQUFBQUFBQEBBQUFAQEFBAEFAQEBBQMBAQEBBQIFBQEFBQUBAQIFBAIBBQMFAgEFAgQBAwEEBQUBBQEFAQEBBQUFBQUFBQUFBQUFBQEBBQEFAgIBAQMBAQMBAQQBBAIBAQEBAwUFAwEFAQUBBQUCBQUBAQEBBQEDAQUFAQIBBQUFBQICBQEBAQEBAQEFAQEFAQEBAQEBAQEFAQEFBQEDAwIEAQUFAwIBBQUDAQUFBQUFBQEBBAQBAQMBAwEBAQUBAgUCAQUBBQMBBQEEAQUBAQUBAwQBAQQFBQMEBQEFBQUBAQEBAQEFAQEDBAUDBQEFAgEBBQQFAgEDAQUBAgIBBQQFBAUDBQUFAQEFBQUDAQUDAgMFAQECBQMFAQEFAwEBBQUDAQUBAQEEAQUFBQQFBQUDBQIFAQUFBAUBBQUFAQEBAQIFAQUBBQUFAgEBAQIBAQEBAQEBAgIBAQEBAgEBBAEBAQQFBAEFBQUFAwIBBQUFBQUFBQUFBAUFBQUFAQQBBQECBQUBAQQBBAUBAQEBBQQFAQQFAQEBBAUFAwUBAgQFBQEFBQQFAwUFAQUFBAUEAQUBAwEDAgUFAgUEAwEFBAUBAQEEBQQFAQUEBQUBBQUBAQMFBQIBBAMDBQUCAQUFBAMDAgMFAQUFBQIDAQEEBAMFBQUBBAMFBQMBBQIDAQQBBQUFBQUDAQEEBQUBAQMFAgMFAQEDAwUBBQEFAwUBBQEFAQUBBQEBAgIFBQUDAQUFAQUEBAUBAQEBAQUFAQUBAQEDAQQBAwUFBAEDBQQBAQUBAQUFAQUFBAUDAwUFBQMFAQUBAQUFAQUBBAUBBQUBBQMFBQEFBAEFAQUCAgMBAQQBAQUFAgQBBQIFAQQBAQQFBQEFAQECBQUBAQEDAwUFBQUEBAUFAQEBAwUFBQUBAwEBBQUFAQUBAwMBBQUFBQUBBQUBAgEEAQIBBQQDAgUFBQMFBQUFBQUFBQUFBQUFAQUFAQEBAQMFAQMBBQEBAQMBAQEBAQUFAQUCBQIBAgEBBAEFBQEDAQEFAQEEAQIFBQEDAQIFBQQBAQQFBAIFBQUEBQEFAQEFBQQDAQEBAQQFBQIBBQEFAQIBAQEEAQEBAQUBAQEBAwUEAQUBBQMEBQEBAQIDAQEFBAEEBAEBAQEBBQUBAQECAQEBAwUCAQEEAwEFAQMBAgUBAwEFBQUFAQIFBAQBBQMDAQEBAQEFBQMEBAIEBQUFBQUFAQEFBQEFBQEEBQUCAQIDAQEBAQEBAQUBAgEBAQEBAQEEAgUBAQEBAQEFAQIBBQEFAQUBAQEBAQEFBQIBAQUDBQEFAQUFAQEBBAEBAQEEAQQBBAEBBQUBBQMFBQQFAQIDAQEFAgMFBQUBAQEBAgUFAQUBAwEFAQEFBAEFAQECBQUFAwQBBAEBAQEBAQUEAQUBAQEDBQMFBQEBBQMFBQEBBQECAgUCBQUDAQEBAwEBAgEBAQUEAQEFAQEBAwIBAQEDAQUBBQUFAgEBAwUBBQUBBQEFAwUBBQEFAQUDBQEFAQMBAQEBAwEFBQQFAQECBQEBAQUFBQEBBQIBBQUCBQUEBQUFBQQFBQIFBQEFAQQFBQUFBQEFBQEFBAEFAQUFBQUFBQUFBQUFAQEBBQUEBQQDBAUFBQUFBQECAwUCBQUBAQIDBQUBAgMEBQMDBQUEBQQFBQUFBQUFBQUCAQEFAQEBAQUBBQMFBQEBBQMBBQEFAgUFBQQFBAUFBQIEAQQFBQEDBQEFBQUDBQMBAgUFAQUBBAUFBQEFBAIEAQQBAwEFAgUFAQUFAgUCBQUBAgEDAQUCBQUFAQEFAQUBAQUBBQEFBAEFBAQBBQUFBAUEBAUFBAEBBQQBAQEBAQUBAQUFBAEFAwIFAQUBAgIBBQQBAQEBAgUFAQEEAQQBAgUBAwUBAQUDAQEFAwIEAQUFAgEFBQECBQUBAQIBBAUEBQIFBQUBAQECAwUFBAUFAQEDAQEBAQEBAQEBAwEBBQUFAQMCAQEDAwEBAQEBAQEBAgECAQEFBQEBBQIBAQEBBQEBAQMBAQEFBQEFBQUFBQUFBQUFBQEBBQQBAQMBAwUFAQEBAgIDAQIFBQUBBQEFBQUDBAUBAgECBQUBAwUFAgEBAgEBAQEBAQEBAQEFBQUFBQECBQEFAQEFBQEFBQEFAQEDBQUDAQUFBQUEBAECBQUFBQUFBQUFBQEEAQUFBQIFBQUBBQEFAwEFBQUFBQUFBQUFBQUFBQUFAQEBAQUBAgMFAQEDAQEFBQUFBQEFBQUFBAEFAgECAgUFBQUFBAUEBQUEBQUEBQQFBQQFBQMFAQUEAQEEBAUBBQEDAwEFBQUFAQUCAQEEAwEBBQMCBQQEBAEEAQIFBQEFBQMDAgQFBQQFBQEFBQUFBQUFBQUBAwUFAwEBAQEFBQUFAQEEBAUDBQUFBQUFBQUFBQUFAQMFBQUEBQMFBAUFBQMBBQEDBQUFBQUFBQUBBQUDAQUFBQUBAQMFBQEBBQMDBQUFAQUCAwUFBAEEBQUEBAEBAgEEBAUBBQMFBQUBAQUFAwUFBQUFBQUEBQUFBQUFBQEBBQEBAQUBBQEFAQQFBQQFBQUFAQEEAQMBBQEBBQUBAwUBAwEDAgQDAQUDBAUFBAUFBAUFBAUFBAUFBAUFBAUFBAUFBAUFBAUFBQUFBQUEBQUFBQUFBQUFBQUFBQUFBQUFAQEBAgQFAQMBAwMFAQECAQMBAwEFAwEBBQEBBQUFBQUFBQUFBQUDBQUFBQUFAwMFBQUDBQUFAQUFBQQBAQUFBQEFBQUFBQEFBQUBBQUFBQUFBQUFBQUFBQUFBQUFAQUFBQUFBQUFBQUFBQMFAQUFBQEBBQEFAQUBBQEFAQUBBQEFBQUFBQUBBQEEAgUDBAUBBQUDAwUFBQUEBQUFAQIEAwUCAwMBAwEBBQUCAQEEAwQFBQUFBQEFAQUBBQUBBQEBBQECBQIFAQEFAQUCAQEFBQUBBQUBBQUBBAQDBQMEAQUEAQUBAQEBAQEFAwECBQQBAwEFBQEFAQECAQEBAQUBAQEBAQEEBQUFBQUFBQUFBQUFBQUFBQUFBQUFAQUFBQUFBQUFBQUFBQUFBQUFBQUFAgUFAQECBAQBBQUFBAUFAgEFBQUFBAQCAQMBBQUBAwEFBQEBBQMFBQUDBQUFBQUDBQMFBQUFBQUDBQUDBQUFBQUBAQUBBQUFBQUFBQUFBQUBBQUFAQUFBQUFBQUFBQUFBQUDAwEFBQECAQEFBQUBBQEFAQUFAQUFAQUBBQEBAQECBQUFBQUFBQUFAQMFAQIDBQEBAQECAgEBAgUBAQ==",
          "dtype": "i1"
         },
         "xaxis": "x",
         "yaxis": "y"
        },
        {
         "alignmentgroup": "True",
         "bingroup": "x",
         "hovertemplate": "Sentiment_Type=Negative<br>Rating=%{x}<br>count=%{y}<extra></extra>",
         "legendgroup": "Negative",
         "marker": {
          "color": "#FF3F3F",
          "pattern": {
           "shape": ""
          }
         },
         "name": "Negative",
         "offsetgroup": "Negative",
         "orientation": "v",
         "showlegend": true,
         "type": "histogram",
         "x": {
          "bdata": "AQEBBQUBBQEBAQIBAgUBAQUBAwUBAwIBBQUBAQEBAQQBAQQFBQEFAQEBAQQBAQMFAQUEBQECAQUBAwUFBQEFBQEEBQEBBQMFAQEBBAUEBAEBBQECBQIFAQEBAQUBAQUBBQUBAQEEBQQFBQUFAQEFAgEFAQQBAQEBAwEBAQEBAQIDAQECBQMBBQEDAgIFBQEFBQEDBQMFBQEFBQQCBAEBBQEFAgMFBQUFAwUBBQUBBQEBAQEBAQEBAQUBAwEFAgEFAQEDBAEBBAUEBQUBAQEDAwEBBQQDBQEFAQEFAQMEAQEBAQEBBQEBBQUBAQEFAwUFBQUDAgIFAgQFBAUFBQUFBAIFBQUBAQEBBQEBAwIFBQUDBAUEAQEFAQMEBQUFAQEFBQUEBQUFAQECBQUDAQEBBQUBBAQBBQUBAwEFBAUFAQQFAQEEAQUBAQQDBQUDBQMBAQEDBQMEAQEEBQUCBAEDAQIBAQECAwUFAQUFBAEBAQUBBQQEBAMDAQUBAQUBAQMCAwMBAgEFBQEFAQEFBQQBBQMBBAQFAQIBAQEBAwUBBAUFAQMBBAUFAQUBAQUEAQEFAwUFAwUBAQEBAwMEBAUBAQEBAwEBAQQBAQMDBQUFAgQBAwUFAwEFBQUEBQMFBQEFAgUCAQQCBAUDAQEFAwUFAQEBAQIBBQEEAQIBBAUBAQECBAECAQUBBAEBBQEFBQEEBQIEBQUFAQUFAQMFBQUFBQUFAQEBAQEBAQECAQUBAQIFBQEDAQIBAQEEAQMEBQIDBQUCBAEBAgUBAQUBBQEFBQUFBQIBAQEBAQUFBQEBAQUFBQMEAwUFBQIFBQUEAwMBAQMFAQEEBAEBAQEFAQEEAwUFAQEFAwUBAQMFAgEFBQEBAwUBBQMFBQUFAwMCAQQFBQUBAQEBAwUBBQUFBQECAQUFAQEEBQUDBQEFAQUFAgECBQEFAQUFAwECBQEEAQMEAQQFAgEBAQEBAQIBAQEBAQEFBAIBBQEBAQIDAgUFAQIFAQUFBQEDBQEFAgUBBQUFAgIFBQECAQEBAwQFBAECBQMFBQUBBQEEAwECAQEFBQUFBQUFBQUFBQEBBQQFAgEBBQEEBQIFBQEBBAMBAQUDBQUBBQUBBQUFAQUFBQMBBAIBAQMEAQMFAQEBAQMEBQIBAQEBAQIBAQUBAQECAQEBAQEFBQMFAgIDAQUFBQEBBQIFBQUEBQUFBQECBQEBBQEBAQUDAQEFAQEBAQMBBAMBAQEBAQQBAwEFAQIFBQEBBQEBBAEBAQUFBQEDBQUFBQEBBAEFBQUFBQUDAQEBAQUBBQUBAwEDAwEEAQUFBQMFBAMBBAEBBQMBAQMCAQMFBAUEBAIBAQEBAQUEBQEFAQIFBQIFBQUCBQUEAQUFAgUEAwQFBQMFAwMFBQUEAQEFBAUBBQQBAgUFBQEFAQQEBQEFAgUFAQUDBQEFAQUFAgEBAwUCBQMFBQUFBQEBAQEFAQUBBQEBAQUFBQEBBQUFBAUDAQEBAgMFBQEBBQUFBAQFAQEBAgIBAQIBAQECAQQBBQEBBAEFBQUFBQUFBQUFBQMDAgEBAQEDBQIFAQEFAQEEAgQFAQEBAQUFBQUFAQEFBAEBAQEFAQUBAQUFBQUFBQUFBQUBBQEDBAUDAQUFAQUBBQUFBQQFBQIBAQUBAQUBBQQBAgMDBAEBAQECAQEDBQEFBQUFBQUFAQUEAQUFAgEFBQUFBQUFAwQFBQEDAgUFBAUBAQECAwUBAgQDBQMFBQUFBQUFBQUFAQMFBQUFBQUBAgUBAQQBBQUBBQUFAQEFAQIEAQEBAgEBAgEDBQEFBQUCBQUEAQQFAQUFBQUDBQUDBQMFBQUBBQEFBQUFBQUFBQUFBQUFBQUFBQUFBQUFBQUFBQEFAQEBBQMDAQUBAwMCBQMFAwUFBQEBBQIFAQEBAQEBBQEBBQEBBQEFAgEBAQEBAQEFAQUFBQUBBQMBBQUEBQUFBQUFBQUFBQUFBQUDAQQFBQECAgUFAQUFAwUBBQUFBQMFAwUFBQUDBQUFBQUFBQUBBQUFAQUFBQUFBQUFAQUFBQUFBQEFBQUFBQUFBQUFBQUFBQUEAQEDBQUFBQUBBQUFAQEBBQMEBQU=",
          "dtype": "i1"
         },
         "xaxis": "x",
         "yaxis": "y"
        }
       ],
       "layout": {
        "barmode": "group",
        "height": 500,
        "legend": {
         "title": {
          "text": "Sentiment_Type"
         },
         "tracegroupgap": 0
        },
        "template": {
         "data": {
          "bar": [
           {
            "error_x": {
             "color": "#2a3f5f"
            },
            "error_y": {
             "color": "#2a3f5f"
            },
            "marker": {
             "line": {
              "color": "#E5ECF6",
              "width": 0.5
             },
             "pattern": {
              "fillmode": "overlay",
              "size": 10,
              "solidity": 0.2
             }
            },
            "type": "bar"
           }
          ],
          "barpolar": [
           {
            "marker": {
             "line": {
              "color": "#E5ECF6",
              "width": 0.5
             },
             "pattern": {
              "fillmode": "overlay",
              "size": 10,
              "solidity": 0.2
             }
            },
            "type": "barpolar"
           }
          ],
          "carpet": [
           {
            "aaxis": {
             "endlinecolor": "#2a3f5f",
             "gridcolor": "white",
             "linecolor": "white",
             "minorgridcolor": "white",
             "startlinecolor": "#2a3f5f"
            },
            "baxis": {
             "endlinecolor": "#2a3f5f",
             "gridcolor": "white",
             "linecolor": "white",
             "minorgridcolor": "white",
             "startlinecolor": "#2a3f5f"
            },
            "type": "carpet"
           }
          ],
          "choropleth": [
           {
            "colorbar": {
             "outlinewidth": 0,
             "ticks": ""
            },
            "type": "choropleth"
           }
          ],
          "contour": [
           {
            "colorbar": {
             "outlinewidth": 0,
             "ticks": ""
            },
            "colorscale": [
             [
              0,
              "#0d0887"
             ],
             [
              0.1111111111111111,
              "#46039f"
             ],
             [
              0.2222222222222222,
              "#7201a8"
             ],
             [
              0.3333333333333333,
              "#9c179e"
             ],
             [
              0.4444444444444444,
              "#bd3786"
             ],
             [
              0.5555555555555556,
              "#d8576b"
             ],
             [
              0.6666666666666666,
              "#ed7953"
             ],
             [
              0.7777777777777778,
              "#fb9f3a"
             ],
             [
              0.8888888888888888,
              "#fdca26"
             ],
             [
              1,
              "#f0f921"
             ]
            ],
            "type": "contour"
           }
          ],
          "contourcarpet": [
           {
            "colorbar": {
             "outlinewidth": 0,
             "ticks": ""
            },
            "type": "contourcarpet"
           }
          ],
          "heatmap": [
           {
            "colorbar": {
             "outlinewidth": 0,
             "ticks": ""
            },
            "colorscale": [
             [
              0,
              "#0d0887"
             ],
             [
              0.1111111111111111,
              "#46039f"
             ],
             [
              0.2222222222222222,
              "#7201a8"
             ],
             [
              0.3333333333333333,
              "#9c179e"
             ],
             [
              0.4444444444444444,
              "#bd3786"
             ],
             [
              0.5555555555555556,
              "#d8576b"
             ],
             [
              0.6666666666666666,
              "#ed7953"
             ],
             [
              0.7777777777777778,
              "#fb9f3a"
             ],
             [
              0.8888888888888888,
              "#fdca26"
             ],
             [
              1,
              "#f0f921"
             ]
            ],
            "type": "heatmap"
           }
          ],
          "histogram": [
           {
            "marker": {
             "pattern": {
              "fillmode": "overlay",
              "size": 10,
              "solidity": 0.2
             }
            },
            "type": "histogram"
           }
          ],
          "histogram2d": [
           {
            "colorbar": {
             "outlinewidth": 0,
             "ticks": ""
            },
            "colorscale": [
             [
              0,
              "#0d0887"
             ],
             [
              0.1111111111111111,
              "#46039f"
             ],
             [
              0.2222222222222222,
              "#7201a8"
             ],
             [
              0.3333333333333333,
              "#9c179e"
             ],
             [
              0.4444444444444444,
              "#bd3786"
             ],
             [
              0.5555555555555556,
              "#d8576b"
             ],
             [
              0.6666666666666666,
              "#ed7953"
             ],
             [
              0.7777777777777778,
              "#fb9f3a"
             ],
             [
              0.8888888888888888,
              "#fdca26"
             ],
             [
              1,
              "#f0f921"
             ]
            ],
            "type": "histogram2d"
           }
          ],
          "histogram2dcontour": [
           {
            "colorbar": {
             "outlinewidth": 0,
             "ticks": ""
            },
            "colorscale": [
             [
              0,
              "#0d0887"
             ],
             [
              0.1111111111111111,
              "#46039f"
             ],
             [
              0.2222222222222222,
              "#7201a8"
             ],
             [
              0.3333333333333333,
              "#9c179e"
             ],
             [
              0.4444444444444444,
              "#bd3786"
             ],
             [
              0.5555555555555556,
              "#d8576b"
             ],
             [
              0.6666666666666666,
              "#ed7953"
             ],
             [
              0.7777777777777778,
              "#fb9f3a"
             ],
             [
              0.8888888888888888,
              "#fdca26"
             ],
             [
              1,
              "#f0f921"
             ]
            ],
            "type": "histogram2dcontour"
           }
          ],
          "mesh3d": [
           {
            "colorbar": {
             "outlinewidth": 0,
             "ticks": ""
            },
            "type": "mesh3d"
           }
          ],
          "parcoords": [
           {
            "line": {
             "colorbar": {
              "outlinewidth": 0,
              "ticks": ""
             }
            },
            "type": "parcoords"
           }
          ],
          "pie": [
           {
            "automargin": true,
            "type": "pie"
           }
          ],
          "scatter": [
           {
            "fillpattern": {
             "fillmode": "overlay",
             "size": 10,
             "solidity": 0.2
            },
            "type": "scatter"
           }
          ],
          "scatter3d": [
           {
            "line": {
             "colorbar": {
              "outlinewidth": 0,
              "ticks": ""
             }
            },
            "marker": {
             "colorbar": {
              "outlinewidth": 0,
              "ticks": ""
             }
            },
            "type": "scatter3d"
           }
          ],
          "scattercarpet": [
           {
            "marker": {
             "colorbar": {
              "outlinewidth": 0,
              "ticks": ""
             }
            },
            "type": "scattercarpet"
           }
          ],
          "scattergeo": [
           {
            "marker": {
             "colorbar": {
              "outlinewidth": 0,
              "ticks": ""
             }
            },
            "type": "scattergeo"
           }
          ],
          "scattergl": [
           {
            "marker": {
             "colorbar": {
              "outlinewidth": 0,
              "ticks": ""
             }
            },
            "type": "scattergl"
           }
          ],
          "scattermap": [
           {
            "marker": {
             "colorbar": {
              "outlinewidth": 0,
              "ticks": ""
             }
            },
            "type": "scattermap"
           }
          ],
          "scattermapbox": [
           {
            "marker": {
             "colorbar": {
              "outlinewidth": 0,
              "ticks": ""
             }
            },
            "type": "scattermapbox"
           }
          ],
          "scatterpolar": [
           {
            "marker": {
             "colorbar": {
              "outlinewidth": 0,
              "ticks": ""
             }
            },
            "type": "scatterpolar"
           }
          ],
          "scatterpolargl": [
           {
            "marker": {
             "colorbar": {
              "outlinewidth": 0,
              "ticks": ""
             }
            },
            "type": "scatterpolargl"
           }
          ],
          "scatterternary": [
           {
            "marker": {
             "colorbar": {
              "outlinewidth": 0,
              "ticks": ""
             }
            },
            "type": "scatterternary"
           }
          ],
          "surface": [
           {
            "colorbar": {
             "outlinewidth": 0,
             "ticks": ""
            },
            "colorscale": [
             [
              0,
              "#0d0887"
             ],
             [
              0.1111111111111111,
              "#46039f"
             ],
             [
              0.2222222222222222,
              "#7201a8"
             ],
             [
              0.3333333333333333,
              "#9c179e"
             ],
             [
              0.4444444444444444,
              "#bd3786"
             ],
             [
              0.5555555555555556,
              "#d8576b"
             ],
             [
              0.6666666666666666,
              "#ed7953"
             ],
             [
              0.7777777777777778,
              "#fb9f3a"
             ],
             [
              0.8888888888888888,
              "#fdca26"
             ],
             [
              1,
              "#f0f921"
             ]
            ],
            "type": "surface"
           }
          ],
          "table": [
           {
            "cells": {
             "fill": {
              "color": "#EBF0F8"
             },
             "line": {
              "color": "white"
             }
            },
            "header": {
             "fill": {
              "color": "#C8D4E3"
             },
             "line": {
              "color": "white"
             }
            },
            "type": "table"
           }
          ]
         },
         "layout": {
          "annotationdefaults": {
           "arrowcolor": "#2a3f5f",
           "arrowhead": 0,
           "arrowwidth": 1
          },
          "autotypenumbers": "strict",
          "coloraxis": {
           "colorbar": {
            "outlinewidth": 0,
            "ticks": ""
           }
          },
          "colorscale": {
           "diverging": [
            [
             0,
             "#8e0152"
            ],
            [
             0.1,
             "#c51b7d"
            ],
            [
             0.2,
             "#de77ae"
            ],
            [
             0.3,
             "#f1b6da"
            ],
            [
             0.4,
             "#fde0ef"
            ],
            [
             0.5,
             "#f7f7f7"
            ],
            [
             0.6,
             "#e6f5d0"
            ],
            [
             0.7,
             "#b8e186"
            ],
            [
             0.8,
             "#7fbc41"
            ],
            [
             0.9,
             "#4d9221"
            ],
            [
             1,
             "#276419"
            ]
           ],
           "sequential": [
            [
             0,
             "#0d0887"
            ],
            [
             0.1111111111111111,
             "#46039f"
            ],
            [
             0.2222222222222222,
             "#7201a8"
            ],
            [
             0.3333333333333333,
             "#9c179e"
            ],
            [
             0.4444444444444444,
             "#bd3786"
            ],
            [
             0.5555555555555556,
             "#d8576b"
            ],
            [
             0.6666666666666666,
             "#ed7953"
            ],
            [
             0.7777777777777778,
             "#fb9f3a"
            ],
            [
             0.8888888888888888,
             "#fdca26"
            ],
            [
             1,
             "#f0f921"
            ]
           ],
           "sequentialminus": [
            [
             0,
             "#0d0887"
            ],
            [
             0.1111111111111111,
             "#46039f"
            ],
            [
             0.2222222222222222,
             "#7201a8"
            ],
            [
             0.3333333333333333,
             "#9c179e"
            ],
            [
             0.4444444444444444,
             "#bd3786"
            ],
            [
             0.5555555555555556,
             "#d8576b"
            ],
            [
             0.6666666666666666,
             "#ed7953"
            ],
            [
             0.7777777777777778,
             "#fb9f3a"
            ],
            [
             0.8888888888888888,
             "#fdca26"
            ],
            [
             1,
             "#f0f921"
            ]
           ]
          },
          "colorway": [
           "#636efa",
           "#EF553B",
           "#00cc96",
           "#ab63fa",
           "#FFA15A",
           "#19d3f3",
           "#FF6692",
           "#B6E880",
           "#FF97FF",
           "#FECB52"
          ],
          "font": {
           "color": "#2a3f5f"
          },
          "geo": {
           "bgcolor": "white",
           "lakecolor": "white",
           "landcolor": "#E5ECF6",
           "showlakes": true,
           "showland": true,
           "subunitcolor": "white"
          },
          "hoverlabel": {
           "align": "left"
          },
          "hovermode": "closest",
          "mapbox": {
           "style": "light"
          },
          "paper_bgcolor": "white",
          "plot_bgcolor": "#E5ECF6",
          "polar": {
           "angularaxis": {
            "gridcolor": "white",
            "linecolor": "white",
            "ticks": ""
           },
           "bgcolor": "#E5ECF6",
           "radialaxis": {
            "gridcolor": "white",
            "linecolor": "white",
            "ticks": ""
           }
          },
          "scene": {
           "xaxis": {
            "backgroundcolor": "#E5ECF6",
            "gridcolor": "white",
            "gridwidth": 2,
            "linecolor": "white",
            "showbackground": true,
            "ticks": "",
            "zerolinecolor": "white"
           },
           "yaxis": {
            "backgroundcolor": "#E5ECF6",
            "gridcolor": "white",
            "gridwidth": 2,
            "linecolor": "white",
            "showbackground": true,
            "ticks": "",
            "zerolinecolor": "white"
           },
           "zaxis": {
            "backgroundcolor": "#E5ECF6",
            "gridcolor": "white",
            "gridwidth": 2,
            "linecolor": "white",
            "showbackground": true,
            "ticks": "",
            "zerolinecolor": "white"
           }
          },
          "shapedefaults": {
           "line": {
            "color": "#2a3f5f"
           }
          },
          "ternary": {
           "aaxis": {
            "gridcolor": "white",
            "linecolor": "white",
            "ticks": ""
           },
           "baxis": {
            "gridcolor": "white",
            "linecolor": "white",
            "ticks": ""
           },
           "bgcolor": "#E5ECF6",
           "caxis": {
            "gridcolor": "white",
            "linecolor": "white",
            "ticks": ""
           }
          },
          "title": {
           "x": 0.05
          },
          "xaxis": {
           "automargin": true,
           "gridcolor": "white",
           "linecolor": "white",
           "ticks": "",
           "title": {
            "standoff": 15
           },
           "zerolinecolor": "white",
           "zerolinewidth": 2
          },
          "yaxis": {
           "automargin": true,
           "gridcolor": "white",
           "linecolor": "white",
           "ticks": "",
           "title": {
            "standoff": 15
           },
           "zerolinecolor": "white",
           "zerolinewidth": 2
          }
         }
        },
        "title": {
         "text": " Rating vs Sentiment Distribution"
        },
        "width": 700,
        "xaxis": {
         "anchor": "y",
         "domain": [
          0,
          1
         ],
         "title": {
          "text": "Rating"
         }
        },
        "yaxis": {
         "anchor": "x",
         "domain": [
          0,
          1
         ],
         "title": {
          "text": "count"
         }
        }
       }
      },
      "image/png": "[encoded data removed]"
     },
     "metadata": {},
     "output_type": "display_data"
    }
   ],
   "source": [
    "# Rating vs Sentiment plot \n",
    "\n",
    "fig = px.histogram(\n",
    "    data,\n",
    "    x=\"rating\",\n",
    "    color=\"Sentiment_Type\",\n",
    "    barmode=\"group\",\n",
    "    title=\" Rating vs Sentiment Distribution\",\n",
    "    labels={\"rating\": \"Rating\", \"Predicted_Sentiment\": \"Sentiment\"},\n",
    "    color_discrete_map=colors\n",
    "    \n",
    ")\n",
    "fig.update_layout(\n",
    "    width=700, height=500)\n",
    "    \n",
    "\n",
    "\n",
    "fig.show()\n"
   ]
  },
  {
   "cell_type": "code",
   "execution_count": 16,
   "id": "03a26557-9844-4d82-9ca4-3c6b355ee2bc",
   "metadata": {},
   "outputs": [],
   "source": [
    "# Count of positive and negative reviews\n",
    "positive_count = data[data['Sentiment_Type'] == 'Positive'].shape[0]\n",
    "negative_count = data[data['Sentiment_Type'] == 'Negative'].shape[0]\n"
   ]
  },
  {
   "cell_type": "code",
   "execution_count": 17,
   "id": "d661fed4-0dd5-4bc7-80d9-4d6b37b24ec0",
   "metadata": {},
   "outputs": [
    {
     "name": "stdout",
     "output_type": "stream",
     "text": [
      "Overall Trend: Customers are mostly satisfied \n",
      "Positive reviews: 3901\n",
      "Negative reviews: 1577\n"
     ]
    }
   ],
   "source": [
    "# Overall Satisfaction trend\n",
    "if positive_count > negative_count:\n",
    "    print(\"Overall Trend: Customers are mostly satisfied \")\n",
    "elif negative_count > positive_count:\n",
    "    print(\"Overall Trend: Customers are mostly dissatisfied \")\n",
    "else:\n",
    "    print(\"Overall Trend: Customers are neutral \")\n",
    "\n",
    "\n",
    "print(f\"Positive reviews: {positive_count}\")\n",
    "print(f\"Negative reviews: {negative_count}\")"
   ]
  },
  {
   "cell_type": "code",
   "execution_count": null,
   "id": "974676c4-e614-4044-91aa-e53f83ec816e",
   "metadata": {},
   "outputs": [],
   "source": []
  },
  {
   "cell_type": "code",
   "execution_count": null,
   "id": "af8c8086-b32d-4d54-b428-01a5f22565da",
   "metadata": {},
   "outputs": [],
   "source": []
  }
 ],
 "metadata": {
  "kernelspec": {
   "display_name": "Python 3 (ipykernel)",
   "language": "python",
   "name": "python3"
  },
  "language_info": {
   "codemirror_mode": {
    "name": "ipython",
    "version": 3
   },
   "file_extension": ".py",
   "mimetype": "text/x-python",
   "name": "python",
   "nbconvert_exporter": "python",
   "pygments_lexer": "ipython3",
   "version": "3.11.4"
  }
 },
 "nbformat": 4,
 "nbformat_minor": 5
}
